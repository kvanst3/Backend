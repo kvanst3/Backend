{
  "cells": [
    {
      "cell_type": "markdown",
      "metadata": {
        "id": "gltiGJhvrzaL"
      },
      "source": [
        "# Introduction\n",
        "\n",
        "Do higher film budgets lead to more box office revenue? Let's find out if there's a relationship using the movie budgets and financial performance data that I've scraped from [the-numbers.com](https://www.the-numbers.com/movie/budgets) on **May 1st, 2018**. \n",
        "\n",
        "<img src=https://i.imgur.com/kq7hrEh.png>"
      ]
    },
    {
      "cell_type": "markdown",
      "metadata": {
        "id": "zkLrvlKvtdih"
      },
      "source": [
        "# Import Statements"
      ]
    },
    {
      "cell_type": "code",
      "execution_count": 31,
      "metadata": {
        "id": "NpDk_q_Urroj"
      },
      "outputs": [],
      "source": [
        "import pandas as pd\n",
        "import matplotlib.pyplot as plt\n",
        "import seaborn as sns\n"
      ]
    },
    {
      "cell_type": "markdown",
      "metadata": {
        "id": "x5B-UDvXtnC6"
      },
      "source": [
        "# Notebook Presentation"
      ]
    },
    {
      "cell_type": "code",
      "execution_count": 3,
      "metadata": {
        "id": "nM_otvWztjpT"
      },
      "outputs": [],
      "source": [
        "pd.options.display.float_format = '{:,.2f}'.format\n",
        "\n",
        "from pandas.plotting import register_matplotlib_converters\n",
        "register_matplotlib_converters()"
      ]
    },
    {
      "cell_type": "markdown",
      "metadata": {
        "id": "v-fnwNYJtthe"
      },
      "source": [
        "# Read the Data"
      ]
    },
    {
      "cell_type": "code",
      "execution_count": 4,
      "metadata": {
        "id": "xhwvQQWitrf4"
      },
      "outputs": [],
      "source": [
        "data = pd.read_csv('cost_revenue_dirty.csv')"
      ]
    },
    {
      "cell_type": "markdown",
      "metadata": {
        "id": "tbg8_J5SuHhs"
      },
      "source": [
        "# Explore and Clean the Data"
      ]
    },
    {
      "cell_type": "markdown",
      "metadata": {
        "id": "xAtdcURCuL0Z"
      },
      "source": [
        "**Challenge**: Answer these questions about the dataset:\n",
        "1. How many rows and columns does the dataset contain?\n",
        "2. Are there any NaN values present?\n",
        "3. Are there any duplicate rows?\n",
        "4. What are the data types of the columns?"
      ]
    },
    {
      "cell_type": "code",
      "execution_count": 5,
      "metadata": {
        "id": "PV3KLBSVTMDN"
      },
      "outputs": [
        {
          "data": {
            "text/plain": [
              "False"
            ]
          },
          "execution_count": 5,
          "metadata": {},
          "output_type": "execute_result"
        }
      ],
      "source": [
        "data.isna().values.any()"
      ]
    },
    {
      "cell_type": "code",
      "execution_count": 6,
      "metadata": {},
      "outputs": [
        {
          "data": {
            "text/plain": [
              "False"
            ]
          },
          "execution_count": 6,
          "metadata": {},
          "output_type": "execute_result"
        }
      ],
      "source": [
        "data.duplicated().values.any()"
      ]
    },
    {
      "cell_type": "code",
      "execution_count": 7,
      "metadata": {},
      "outputs": [
        {
          "data": {
            "text/plain": [
              "0"
            ]
          },
          "execution_count": 7,
          "metadata": {},
          "output_type": "execute_result"
        }
      ],
      "source": [
        "duplicated_rows = data[data.duplicated()]\n",
        "len(duplicated_rows)"
      ]
    },
    {
      "cell_type": "code",
      "execution_count": 8,
      "metadata": {},
      "outputs": [
        {
          "name": "stdout",
          "output_type": "stream",
          "text": [
            "<class 'pandas.core.frame.DataFrame'>\n",
            "RangeIndex: 5391 entries, 0 to 5390\n",
            "Data columns (total 6 columns):\n",
            " #   Column                 Non-Null Count  Dtype \n",
            "---  ------                 --------------  ----- \n",
            " 0   Rank                   5391 non-null   int64 \n",
            " 1   Release_Date           5391 non-null   object\n",
            " 2   Movie_Title            5391 non-null   object\n",
            " 3   USD_Production_Budget  5391 non-null   object\n",
            " 4   USD_Worldwide_Gross    5391 non-null   object\n",
            " 5   USD_Domestic_Gross     5391 non-null   object\n",
            "dtypes: int64(1), object(5)\n",
            "memory usage: 252.8+ KB\n"
          ]
        }
      ],
      "source": [
        "data.info()"
      ]
    },
    {
      "cell_type": "code",
      "execution_count": 9,
      "metadata": {},
      "outputs": [
        {
          "data": {
            "text/html": [
              "<div>\n",
              "<style scoped>\n",
              "    .dataframe tbody tr th:only-of-type {\n",
              "        vertical-align: middle;\n",
              "    }\n",
              "\n",
              "    .dataframe tbody tr th {\n",
              "        vertical-align: top;\n",
              "    }\n",
              "\n",
              "    .dataframe thead th {\n",
              "        text-align: right;\n",
              "    }\n",
              "</style>\n",
              "<table border=\"1\" class=\"dataframe\">\n",
              "  <thead>\n",
              "    <tr style=\"text-align: right;\">\n",
              "      <th></th>\n",
              "      <th>Rank</th>\n",
              "      <th>Release_Date</th>\n",
              "      <th>Movie_Title</th>\n",
              "      <th>USD_Production_Budget</th>\n",
              "      <th>USD_Worldwide_Gross</th>\n",
              "      <th>USD_Domestic_Gross</th>\n",
              "    </tr>\n",
              "  </thead>\n",
              "  <tbody>\n",
              "    <tr>\n",
              "      <th>0</th>\n",
              "      <td>5293</td>\n",
              "      <td>8/2/1915</td>\n",
              "      <td>The Birth of a Nation</td>\n",
              "      <td>$110,000</td>\n",
              "      <td>$11,000,000</td>\n",
              "      <td>$10,000,000</td>\n",
              "    </tr>\n",
              "    <tr>\n",
              "      <th>1</th>\n",
              "      <td>5140</td>\n",
              "      <td>5/9/1916</td>\n",
              "      <td>Intolerance</td>\n",
              "      <td>$385,907</td>\n",
              "      <td>$0</td>\n",
              "      <td>$0</td>\n",
              "    </tr>\n",
              "    <tr>\n",
              "      <th>2</th>\n",
              "      <td>5230</td>\n",
              "      <td>12/24/1916</td>\n",
              "      <td>20,000 Leagues Under the Sea</td>\n",
              "      <td>$200,000</td>\n",
              "      <td>$8,000,000</td>\n",
              "      <td>$8,000,000</td>\n",
              "    </tr>\n",
              "    <tr>\n",
              "      <th>3</th>\n",
              "      <td>5299</td>\n",
              "      <td>9/17/1920</td>\n",
              "      <td>Over the Hill to the Poorhouse</td>\n",
              "      <td>$100,000</td>\n",
              "      <td>$3,000,000</td>\n",
              "      <td>$3,000,000</td>\n",
              "    </tr>\n",
              "    <tr>\n",
              "      <th>4</th>\n",
              "      <td>5222</td>\n",
              "      <td>1/1/1925</td>\n",
              "      <td>The Big Parade</td>\n",
              "      <td>$245,000</td>\n",
              "      <td>$22,000,000</td>\n",
              "      <td>$11,000,000</td>\n",
              "    </tr>\n",
              "    <tr>\n",
              "      <th>...</th>\n",
              "      <td>...</td>\n",
              "      <td>...</td>\n",
              "      <td>...</td>\n",
              "      <td>...</td>\n",
              "      <td>...</td>\n",
              "      <td>...</td>\n",
              "    </tr>\n",
              "    <tr>\n",
              "      <th>5386</th>\n",
              "      <td>2950</td>\n",
              "      <td>10/8/2018</td>\n",
              "      <td>Meg</td>\n",
              "      <td>$15,000,000</td>\n",
              "      <td>$0</td>\n",
              "      <td>$0</td>\n",
              "    </tr>\n",
              "    <tr>\n",
              "      <th>5387</th>\n",
              "      <td>126</td>\n",
              "      <td>12/18/2018</td>\n",
              "      <td>Aquaman</td>\n",
              "      <td>$160,000,000</td>\n",
              "      <td>$0</td>\n",
              "      <td>$0</td>\n",
              "    </tr>\n",
              "    <tr>\n",
              "      <th>5388</th>\n",
              "      <td>96</td>\n",
              "      <td>12/31/2020</td>\n",
              "      <td>Singularity</td>\n",
              "      <td>$175,000,000</td>\n",
              "      <td>$0</td>\n",
              "      <td>$0</td>\n",
              "    </tr>\n",
              "    <tr>\n",
              "      <th>5389</th>\n",
              "      <td>1119</td>\n",
              "      <td>12/31/2020</td>\n",
              "      <td>Hannibal the Conqueror</td>\n",
              "      <td>$50,000,000</td>\n",
              "      <td>$0</td>\n",
              "      <td>$0</td>\n",
              "    </tr>\n",
              "    <tr>\n",
              "      <th>5390</th>\n",
              "      <td>2517</td>\n",
              "      <td>12/31/2020</td>\n",
              "      <td>Story of Bonnie and Clyde, The</td>\n",
              "      <td>$20,000,000</td>\n",
              "      <td>$0</td>\n",
              "      <td>$0</td>\n",
              "    </tr>\n",
              "  </tbody>\n",
              "</table>\n",
              "<p>5391 rows × 6 columns</p>\n",
              "</div>"
            ],
            "text/plain": [
              "      Rank Release_Date                     Movie_Title USD_Production_Budget  \\\n",
              "0     5293     8/2/1915           The Birth of a Nation              $110,000   \n",
              "1     5140     5/9/1916                     Intolerance              $385,907   \n",
              "2     5230   12/24/1916    20,000 Leagues Under the Sea              $200,000   \n",
              "3     5299    9/17/1920  Over the Hill to the Poorhouse              $100,000   \n",
              "4     5222     1/1/1925                  The Big Parade              $245,000   \n",
              "...    ...          ...                             ...                   ...   \n",
              "5386  2950    10/8/2018                             Meg           $15,000,000   \n",
              "5387   126   12/18/2018                         Aquaman          $160,000,000   \n",
              "5388    96   12/31/2020                     Singularity          $175,000,000   \n",
              "5389  1119   12/31/2020          Hannibal the Conqueror           $50,000,000   \n",
              "5390  2517   12/31/2020  Story of Bonnie and Clyde, The           $20,000,000   \n",
              "\n",
              "     USD_Worldwide_Gross USD_Domestic_Gross  \n",
              "0            $11,000,000        $10,000,000  \n",
              "1                     $0                 $0  \n",
              "2             $8,000,000         $8,000,000  \n",
              "3             $3,000,000         $3,000,000  \n",
              "4            $22,000,000        $11,000,000  \n",
              "...                  ...                ...  \n",
              "5386                  $0                 $0  \n",
              "5387                  $0                 $0  \n",
              "5388                  $0                 $0  \n",
              "5389                  $0                 $0  \n",
              "5390                  $0                 $0  \n",
              "\n",
              "[5391 rows x 6 columns]"
            ]
          },
          "execution_count": 9,
          "metadata": {},
          "output_type": "execute_result"
        }
      ],
      "source": [
        "data"
      ]
    },
    {
      "cell_type": "markdown",
      "metadata": {
        "id": "v8spadDNvpVG"
      },
      "source": [
        "### Data Type Conversions"
      ]
    },
    {
      "cell_type": "markdown",
      "metadata": {
        "id": "9F8KFST4ulrd"
      },
      "source": [
        "**Challenge**: Convert the `USD_Production_Budget`, `USD_Worldwide_Gross`, and `USD_Domestic_Gross` columns to a numeric format by removing `$` signs and `,`. \n",
        "<br>\n",
        "<br>\n",
        "Note that *domestic* in this context refers to the United States."
      ]
    },
    {
      "cell_type": "code",
      "execution_count": 10,
      "metadata": {
        "id": "BmdCbLf-TPXk"
      },
      "outputs": [
        {
          "name": "stderr",
          "output_type": "stream",
          "text": [
            "<ipython-input-10-98a7851bc720>:8: FutureWarning: The default value of regex will change from True to False in a future version. In addition, single character regular expressions will*not* be treated as literal strings when regex=True.\n",
            "  data[col] = data[col].astype(str).str.replace(char, \"\")\n"
          ]
        }
      ],
      "source": [
        "chars_to_remove = [',', '$']\n",
        "columns_to_clean = ['USD_Production_Budget', \n",
        "                    'USD_Worldwide_Gross',\n",
        "                    'USD_Domestic_Gross']\n",
        "for col in columns_to_clean:\n",
        "    for char in chars_to_remove:\n",
        "        # Replace each character with an empty string\n",
        "        data[col] = data[col].astype(str).str.replace(char, \"\")\n",
        "    # Convert column to a numeric data type\n",
        "    data[col] = pd.to_numeric(data[col])"
      ]
    },
    {
      "cell_type": "code",
      "execution_count": 11,
      "metadata": {},
      "outputs": [
        {
          "data": {
            "text/html": [
              "<div>\n",
              "<style scoped>\n",
              "    .dataframe tbody tr th:only-of-type {\n",
              "        vertical-align: middle;\n",
              "    }\n",
              "\n",
              "    .dataframe tbody tr th {\n",
              "        vertical-align: top;\n",
              "    }\n",
              "\n",
              "    .dataframe thead th {\n",
              "        text-align: right;\n",
              "    }\n",
              "</style>\n",
              "<table border=\"1\" class=\"dataframe\">\n",
              "  <thead>\n",
              "    <tr style=\"text-align: right;\">\n",
              "      <th></th>\n",
              "      <th>Rank</th>\n",
              "      <th>Release_Date</th>\n",
              "      <th>Movie_Title</th>\n",
              "      <th>USD_Production_Budget</th>\n",
              "      <th>USD_Worldwide_Gross</th>\n",
              "      <th>USD_Domestic_Gross</th>\n",
              "    </tr>\n",
              "  </thead>\n",
              "  <tbody>\n",
              "    <tr>\n",
              "      <th>0</th>\n",
              "      <td>5293</td>\n",
              "      <td>8/2/1915</td>\n",
              "      <td>The Birth of a Nation</td>\n",
              "      <td>110000</td>\n",
              "      <td>11000000</td>\n",
              "      <td>10000000</td>\n",
              "    </tr>\n",
              "    <tr>\n",
              "      <th>1</th>\n",
              "      <td>5140</td>\n",
              "      <td>5/9/1916</td>\n",
              "      <td>Intolerance</td>\n",
              "      <td>385907</td>\n",
              "      <td>0</td>\n",
              "      <td>0</td>\n",
              "    </tr>\n",
              "    <tr>\n",
              "      <th>2</th>\n",
              "      <td>5230</td>\n",
              "      <td>12/24/1916</td>\n",
              "      <td>20,000 Leagues Under the Sea</td>\n",
              "      <td>200000</td>\n",
              "      <td>8000000</td>\n",
              "      <td>8000000</td>\n",
              "    </tr>\n",
              "    <tr>\n",
              "      <th>3</th>\n",
              "      <td>5299</td>\n",
              "      <td>9/17/1920</td>\n",
              "      <td>Over the Hill to the Poorhouse</td>\n",
              "      <td>100000</td>\n",
              "      <td>3000000</td>\n",
              "      <td>3000000</td>\n",
              "    </tr>\n",
              "    <tr>\n",
              "      <th>4</th>\n",
              "      <td>5222</td>\n",
              "      <td>1/1/1925</td>\n",
              "      <td>The Big Parade</td>\n",
              "      <td>245000</td>\n",
              "      <td>22000000</td>\n",
              "      <td>11000000</td>\n",
              "    </tr>\n",
              "    <tr>\n",
              "      <th>...</th>\n",
              "      <td>...</td>\n",
              "      <td>...</td>\n",
              "      <td>...</td>\n",
              "      <td>...</td>\n",
              "      <td>...</td>\n",
              "      <td>...</td>\n",
              "    </tr>\n",
              "    <tr>\n",
              "      <th>5386</th>\n",
              "      <td>2950</td>\n",
              "      <td>10/8/2018</td>\n",
              "      <td>Meg</td>\n",
              "      <td>15000000</td>\n",
              "      <td>0</td>\n",
              "      <td>0</td>\n",
              "    </tr>\n",
              "    <tr>\n",
              "      <th>5387</th>\n",
              "      <td>126</td>\n",
              "      <td>12/18/2018</td>\n",
              "      <td>Aquaman</td>\n",
              "      <td>160000000</td>\n",
              "      <td>0</td>\n",
              "      <td>0</td>\n",
              "    </tr>\n",
              "    <tr>\n",
              "      <th>5388</th>\n",
              "      <td>96</td>\n",
              "      <td>12/31/2020</td>\n",
              "      <td>Singularity</td>\n",
              "      <td>175000000</td>\n",
              "      <td>0</td>\n",
              "      <td>0</td>\n",
              "    </tr>\n",
              "    <tr>\n",
              "      <th>5389</th>\n",
              "      <td>1119</td>\n",
              "      <td>12/31/2020</td>\n",
              "      <td>Hannibal the Conqueror</td>\n",
              "      <td>50000000</td>\n",
              "      <td>0</td>\n",
              "      <td>0</td>\n",
              "    </tr>\n",
              "    <tr>\n",
              "      <th>5390</th>\n",
              "      <td>2517</td>\n",
              "      <td>12/31/2020</td>\n",
              "      <td>Story of Bonnie and Clyde, The</td>\n",
              "      <td>20000000</td>\n",
              "      <td>0</td>\n",
              "      <td>0</td>\n",
              "    </tr>\n",
              "  </tbody>\n",
              "</table>\n",
              "<p>5391 rows × 6 columns</p>\n",
              "</div>"
            ],
            "text/plain": [
              "      Rank Release_Date                     Movie_Title  \\\n",
              "0     5293     8/2/1915           The Birth of a Nation   \n",
              "1     5140     5/9/1916                     Intolerance   \n",
              "2     5230   12/24/1916    20,000 Leagues Under the Sea   \n",
              "3     5299    9/17/1920  Over the Hill to the Poorhouse   \n",
              "4     5222     1/1/1925                  The Big Parade   \n",
              "...    ...          ...                             ...   \n",
              "5386  2950    10/8/2018                             Meg   \n",
              "5387   126   12/18/2018                         Aquaman   \n",
              "5388    96   12/31/2020                     Singularity   \n",
              "5389  1119   12/31/2020          Hannibal the Conqueror   \n",
              "5390  2517   12/31/2020  Story of Bonnie and Clyde, The   \n",
              "\n",
              "      USD_Production_Budget  USD_Worldwide_Gross  USD_Domestic_Gross  \n",
              "0                    110000             11000000            10000000  \n",
              "1                    385907                    0                   0  \n",
              "2                    200000              8000000             8000000  \n",
              "3                    100000              3000000             3000000  \n",
              "4                    245000             22000000            11000000  \n",
              "...                     ...                  ...                 ...  \n",
              "5386               15000000                    0                   0  \n",
              "5387              160000000                    0                   0  \n",
              "5388              175000000                    0                   0  \n",
              "5389               50000000                    0                   0  \n",
              "5390               20000000                    0                   0  \n",
              "\n",
              "[5391 rows x 6 columns]"
            ]
          },
          "execution_count": 11,
          "metadata": {},
          "output_type": "execute_result"
        }
      ],
      "source": [
        "data"
      ]
    },
    {
      "cell_type": "markdown",
      "metadata": {
        "id": "cA01iJHkvWhl"
      },
      "source": [
        "**Challenge**: Convert the `Release_Date` column to a Pandas Datetime type. "
      ]
    },
    {
      "cell_type": "code",
      "execution_count": 12,
      "metadata": {
        "id": "Pq1WfvRnTRU6"
      },
      "outputs": [],
      "source": [
        "data.Release_Date = pd.to_datetime(data.Release_Date)"
      ]
    },
    {
      "cell_type": "code",
      "execution_count": 13,
      "metadata": {},
      "outputs": [
        {
          "data": {
            "text/html": [
              "<div>\n",
              "<style scoped>\n",
              "    .dataframe tbody tr th:only-of-type {\n",
              "        vertical-align: middle;\n",
              "    }\n",
              "\n",
              "    .dataframe tbody tr th {\n",
              "        vertical-align: top;\n",
              "    }\n",
              "\n",
              "    .dataframe thead th {\n",
              "        text-align: right;\n",
              "    }\n",
              "</style>\n",
              "<table border=\"1\" class=\"dataframe\">\n",
              "  <thead>\n",
              "    <tr style=\"text-align: right;\">\n",
              "      <th></th>\n",
              "      <th>Rank</th>\n",
              "      <th>Release_Date</th>\n",
              "      <th>Movie_Title</th>\n",
              "      <th>USD_Production_Budget</th>\n",
              "      <th>USD_Worldwide_Gross</th>\n",
              "      <th>USD_Domestic_Gross</th>\n",
              "    </tr>\n",
              "  </thead>\n",
              "  <tbody>\n",
              "    <tr>\n",
              "      <th>0</th>\n",
              "      <td>5293</td>\n",
              "      <td>1915-08-02</td>\n",
              "      <td>The Birth of a Nation</td>\n",
              "      <td>110000</td>\n",
              "      <td>11000000</td>\n",
              "      <td>10000000</td>\n",
              "    </tr>\n",
              "    <tr>\n",
              "      <th>1</th>\n",
              "      <td>5140</td>\n",
              "      <td>1916-05-09</td>\n",
              "      <td>Intolerance</td>\n",
              "      <td>385907</td>\n",
              "      <td>0</td>\n",
              "      <td>0</td>\n",
              "    </tr>\n",
              "    <tr>\n",
              "      <th>2</th>\n",
              "      <td>5230</td>\n",
              "      <td>1916-12-24</td>\n",
              "      <td>20,000 Leagues Under the Sea</td>\n",
              "      <td>200000</td>\n",
              "      <td>8000000</td>\n",
              "      <td>8000000</td>\n",
              "    </tr>\n",
              "    <tr>\n",
              "      <th>3</th>\n",
              "      <td>5299</td>\n",
              "      <td>1920-09-17</td>\n",
              "      <td>Over the Hill to the Poorhouse</td>\n",
              "      <td>100000</td>\n",
              "      <td>3000000</td>\n",
              "      <td>3000000</td>\n",
              "    </tr>\n",
              "    <tr>\n",
              "      <th>4</th>\n",
              "      <td>5222</td>\n",
              "      <td>1925-01-01</td>\n",
              "      <td>The Big Parade</td>\n",
              "      <td>245000</td>\n",
              "      <td>22000000</td>\n",
              "      <td>11000000</td>\n",
              "    </tr>\n",
              "    <tr>\n",
              "      <th>...</th>\n",
              "      <td>...</td>\n",
              "      <td>...</td>\n",
              "      <td>...</td>\n",
              "      <td>...</td>\n",
              "      <td>...</td>\n",
              "      <td>...</td>\n",
              "    </tr>\n",
              "    <tr>\n",
              "      <th>5386</th>\n",
              "      <td>2950</td>\n",
              "      <td>2018-10-08</td>\n",
              "      <td>Meg</td>\n",
              "      <td>15000000</td>\n",
              "      <td>0</td>\n",
              "      <td>0</td>\n",
              "    </tr>\n",
              "    <tr>\n",
              "      <th>5387</th>\n",
              "      <td>126</td>\n",
              "      <td>2018-12-18</td>\n",
              "      <td>Aquaman</td>\n",
              "      <td>160000000</td>\n",
              "      <td>0</td>\n",
              "      <td>0</td>\n",
              "    </tr>\n",
              "    <tr>\n",
              "      <th>5388</th>\n",
              "      <td>96</td>\n",
              "      <td>2020-12-31</td>\n",
              "      <td>Singularity</td>\n",
              "      <td>175000000</td>\n",
              "      <td>0</td>\n",
              "      <td>0</td>\n",
              "    </tr>\n",
              "    <tr>\n",
              "      <th>5389</th>\n",
              "      <td>1119</td>\n",
              "      <td>2020-12-31</td>\n",
              "      <td>Hannibal the Conqueror</td>\n",
              "      <td>50000000</td>\n",
              "      <td>0</td>\n",
              "      <td>0</td>\n",
              "    </tr>\n",
              "    <tr>\n",
              "      <th>5390</th>\n",
              "      <td>2517</td>\n",
              "      <td>2020-12-31</td>\n",
              "      <td>Story of Bonnie and Clyde, The</td>\n",
              "      <td>20000000</td>\n",
              "      <td>0</td>\n",
              "      <td>0</td>\n",
              "    </tr>\n",
              "  </tbody>\n",
              "</table>\n",
              "<p>5391 rows × 6 columns</p>\n",
              "</div>"
            ],
            "text/plain": [
              "      Rank Release_Date                     Movie_Title  \\\n",
              "0     5293   1915-08-02           The Birth of a Nation   \n",
              "1     5140   1916-05-09                     Intolerance   \n",
              "2     5230   1916-12-24    20,000 Leagues Under the Sea   \n",
              "3     5299   1920-09-17  Over the Hill to the Poorhouse   \n",
              "4     5222   1925-01-01                  The Big Parade   \n",
              "...    ...          ...                             ...   \n",
              "5386  2950   2018-10-08                             Meg   \n",
              "5387   126   2018-12-18                         Aquaman   \n",
              "5388    96   2020-12-31                     Singularity   \n",
              "5389  1119   2020-12-31          Hannibal the Conqueror   \n",
              "5390  2517   2020-12-31  Story of Bonnie and Clyde, The   \n",
              "\n",
              "      USD_Production_Budget  USD_Worldwide_Gross  USD_Domestic_Gross  \n",
              "0                    110000             11000000            10000000  \n",
              "1                    385907                    0                   0  \n",
              "2                    200000              8000000             8000000  \n",
              "3                    100000              3000000             3000000  \n",
              "4                    245000             22000000            11000000  \n",
              "...                     ...                  ...                 ...  \n",
              "5386               15000000                    0                   0  \n",
              "5387              160000000                    0                   0  \n",
              "5388              175000000                    0                   0  \n",
              "5389               50000000                    0                   0  \n",
              "5390               20000000                    0                   0  \n",
              "\n",
              "[5391 rows x 6 columns]"
            ]
          },
          "execution_count": 13,
          "metadata": {},
          "output_type": "execute_result"
        }
      ],
      "source": [
        "data"
      ]
    },
    {
      "cell_type": "markdown",
      "metadata": {
        "id": "NkwmJO3tvt5i"
      },
      "source": [
        "### Descriptive Statistics"
      ]
    },
    {
      "cell_type": "markdown",
      "metadata": {
        "id": "bnb54thrvx5r"
      },
      "source": [
        "**Challenge**: \n",
        "\n",
        "1. What is the average production budget of the films in the data set?\n",
        "2. What is the average worldwide gross revenue of films?\n",
        "3. What were the minimums for worldwide and domestic revenue?\n",
        "4. Are the bottom 25% of films actually profitable or do they lose money?\n",
        "5. What are the highest production budget and highest worldwide gross revenue of any film?\n",
        "6. How much revenue did the lowest and highest budget films make?"
      ]
    },
    {
      "cell_type": "code",
      "execution_count": 14,
      "metadata": {
        "id": "8G5_FATFTTtb"
      },
      "outputs": [
        {
          "data": {
            "text/html": [
              "<div>\n",
              "<style scoped>\n",
              "    .dataframe tbody tr th:only-of-type {\n",
              "        vertical-align: middle;\n",
              "    }\n",
              "\n",
              "    .dataframe tbody tr th {\n",
              "        vertical-align: top;\n",
              "    }\n",
              "\n",
              "    .dataframe thead th {\n",
              "        text-align: right;\n",
              "    }\n",
              "</style>\n",
              "<table border=\"1\" class=\"dataframe\">\n",
              "  <thead>\n",
              "    <tr style=\"text-align: right;\">\n",
              "      <th></th>\n",
              "      <th>Rank</th>\n",
              "      <th>USD_Production_Budget</th>\n",
              "      <th>USD_Worldwide_Gross</th>\n",
              "      <th>USD_Domestic_Gross</th>\n",
              "    </tr>\n",
              "  </thead>\n",
              "  <tbody>\n",
              "    <tr>\n",
              "      <th>count</th>\n",
              "      <td>5,391.00</td>\n",
              "      <td>5,391.00</td>\n",
              "      <td>5,391.00</td>\n",
              "      <td>5,391.00</td>\n",
              "    </tr>\n",
              "    <tr>\n",
              "      <th>mean</th>\n",
              "      <td>2,696.00</td>\n",
              "      <td>31,113,737.58</td>\n",
              "      <td>88,855,421.96</td>\n",
              "      <td>41,235,519.44</td>\n",
              "    </tr>\n",
              "    <tr>\n",
              "      <th>std</th>\n",
              "      <td>1,556.39</td>\n",
              "      <td>40,523,796.88</td>\n",
              "      <td>168,457,757.00</td>\n",
              "      <td>66,029,346.27</td>\n",
              "    </tr>\n",
              "    <tr>\n",
              "      <th>min</th>\n",
              "      <td>1.00</td>\n",
              "      <td>1,100.00</td>\n",
              "      <td>0.00</td>\n",
              "      <td>0.00</td>\n",
              "    </tr>\n",
              "    <tr>\n",
              "      <th>25%</th>\n",
              "      <td>1,348.50</td>\n",
              "      <td>5,000,000.00</td>\n",
              "      <td>3,865,206.00</td>\n",
              "      <td>1,330,901.50</td>\n",
              "    </tr>\n",
              "    <tr>\n",
              "      <th>50%</th>\n",
              "      <td>2,696.00</td>\n",
              "      <td>17,000,000.00</td>\n",
              "      <td>27,450,453.00</td>\n",
              "      <td>17,192,205.00</td>\n",
              "    </tr>\n",
              "    <tr>\n",
              "      <th>75%</th>\n",
              "      <td>4,043.50</td>\n",
              "      <td>40,000,000.00</td>\n",
              "      <td>96,454,455.00</td>\n",
              "      <td>52,343,687.00</td>\n",
              "    </tr>\n",
              "    <tr>\n",
              "      <th>max</th>\n",
              "      <td>5,391.00</td>\n",
              "      <td>425,000,000.00</td>\n",
              "      <td>2,783,918,982.00</td>\n",
              "      <td>936,662,225.00</td>\n",
              "    </tr>\n",
              "  </tbody>\n",
              "</table>\n",
              "</div>"
            ],
            "text/plain": [
              "          Rank  USD_Production_Budget  USD_Worldwide_Gross  USD_Domestic_Gross\n",
              "count 5,391.00               5,391.00             5,391.00            5,391.00\n",
              "mean  2,696.00          31,113,737.58        88,855,421.96       41,235,519.44\n",
              "std   1,556.39          40,523,796.88       168,457,757.00       66,029,346.27\n",
              "min       1.00               1,100.00                 0.00                0.00\n",
              "25%   1,348.50           5,000,000.00         3,865,206.00        1,330,901.50\n",
              "50%   2,696.00          17,000,000.00        27,450,453.00       17,192,205.00\n",
              "75%   4,043.50          40,000,000.00        96,454,455.00       52,343,687.00\n",
              "max   5,391.00         425,000,000.00     2,783,918,982.00      936,662,225.00"
            ]
          },
          "execution_count": 14,
          "metadata": {},
          "output_type": "execute_result"
        }
      ],
      "source": [
        "data.describe()"
      ]
    },
    {
      "cell_type": "code",
      "execution_count": 15,
      "metadata": {},
      "outputs": [
        {
          "data": {
            "text/html": [
              "<div>\n",
              "<style scoped>\n",
              "    .dataframe tbody tr th:only-of-type {\n",
              "        vertical-align: middle;\n",
              "    }\n",
              "\n",
              "    .dataframe tbody tr th {\n",
              "        vertical-align: top;\n",
              "    }\n",
              "\n",
              "    .dataframe thead th {\n",
              "        text-align: right;\n",
              "    }\n",
              "</style>\n",
              "<table border=\"1\" class=\"dataframe\">\n",
              "  <thead>\n",
              "    <tr style=\"text-align: right;\">\n",
              "      <th></th>\n",
              "      <th>Rank</th>\n",
              "      <th>Release_Date</th>\n",
              "      <th>Movie_Title</th>\n",
              "      <th>USD_Production_Budget</th>\n",
              "      <th>USD_Worldwide_Gross</th>\n",
              "      <th>USD_Domestic_Gross</th>\n",
              "    </tr>\n",
              "  </thead>\n",
              "  <tbody>\n",
              "    <tr>\n",
              "      <th>2427</th>\n",
              "      <td>5391</td>\n",
              "      <td>2005-05-08</td>\n",
              "      <td>My Date With Drew</td>\n",
              "      <td>1100</td>\n",
              "      <td>181041</td>\n",
              "      <td>181041</td>\n",
              "    </tr>\n",
              "    <tr>\n",
              "      <th>5007</th>\n",
              "      <td>5390</td>\n",
              "      <td>2015-09-29</td>\n",
              "      <td>A Plague So Pleasant</td>\n",
              "      <td>1400</td>\n",
              "      <td>0</td>\n",
              "      <td>0</td>\n",
              "    </tr>\n",
              "    <tr>\n",
              "      <th>2462</th>\n",
              "      <td>5388</td>\n",
              "      <td>2005-07-13</td>\n",
              "      <td>Return to the Land of Wonders</td>\n",
              "      <td>5000</td>\n",
              "      <td>1338</td>\n",
              "      <td>1338</td>\n",
              "    </tr>\n",
              "    <tr>\n",
              "      <th>5006</th>\n",
              "      <td>5389</td>\n",
              "      <td>2015-09-29</td>\n",
              "      <td>Signed Sealed Delivered</td>\n",
              "      <td>5000</td>\n",
              "      <td>0</td>\n",
              "      <td>0</td>\n",
              "    </tr>\n",
              "    <tr>\n",
              "      <th>1209</th>\n",
              "      <td>5387</td>\n",
              "      <td>1999-02-04</td>\n",
              "      <td>Following</td>\n",
              "      <td>6000</td>\n",
              "      <td>240495</td>\n",
              "      <td>48482</td>\n",
              "    </tr>\n",
              "    <tr>\n",
              "      <th>...</th>\n",
              "      <td>...</td>\n",
              "      <td>...</td>\n",
              "      <td>...</td>\n",
              "      <td>...</td>\n",
              "      <td>...</td>\n",
              "      <td>...</td>\n",
              "    </tr>\n",
              "    <tr>\n",
              "      <th>4333</th>\n",
              "      <td>6</td>\n",
              "      <td>2013-02-07</td>\n",
              "      <td>The Lone Ranger</td>\n",
              "      <td>275000000</td>\n",
              "      <td>260002115</td>\n",
              "      <td>89302115</td>\n",
              "    </tr>\n",
              "    <tr>\n",
              "      <th>4925</th>\n",
              "      <td>4</td>\n",
              "      <td>2015-06-11</td>\n",
              "      <td>Spectre</td>\n",
              "      <td>300000000</td>\n",
              "      <td>879620923</td>\n",
              "      <td>200074175</td>\n",
              "    </tr>\n",
              "    <tr>\n",
              "      <th>2911</th>\n",
              "      <td>3</td>\n",
              "      <td>2007-05-24</td>\n",
              "      <td>Pirates of the Caribbean: At World’s End</td>\n",
              "      <td>300000000</td>\n",
              "      <td>963420425</td>\n",
              "      <td>309420425</td>\n",
              "    </tr>\n",
              "    <tr>\n",
              "      <th>5079</th>\n",
              "      <td>2</td>\n",
              "      <td>2015-12-18</td>\n",
              "      <td>Star Wars Ep. VII: The Force Awakens</td>\n",
              "      <td>306000000</td>\n",
              "      <td>2058662225</td>\n",
              "      <td>936662225</td>\n",
              "    </tr>\n",
              "    <tr>\n",
              "      <th>3529</th>\n",
              "      <td>1</td>\n",
              "      <td>2009-12-18</td>\n",
              "      <td>Avatar</td>\n",
              "      <td>425000000</td>\n",
              "      <td>2783918982</td>\n",
              "      <td>760507625</td>\n",
              "    </tr>\n",
              "  </tbody>\n",
              "</table>\n",
              "<p>5391 rows × 6 columns</p>\n",
              "</div>"
            ],
            "text/plain": [
              "      Rank Release_Date                               Movie_Title  \\\n",
              "2427  5391   2005-05-08                         My Date With Drew   \n",
              "5007  5390   2015-09-29                      A Plague So Pleasant   \n",
              "2462  5388   2005-07-13             Return to the Land of Wonders   \n",
              "5006  5389   2015-09-29                   Signed Sealed Delivered   \n",
              "1209  5387   1999-02-04                                 Following   \n",
              "...    ...          ...                                       ...   \n",
              "4333     6   2013-02-07                           The Lone Ranger   \n",
              "4925     4   2015-06-11                                   Spectre   \n",
              "2911     3   2007-05-24  Pirates of the Caribbean: At World’s End   \n",
              "5079     2   2015-12-18      Star Wars Ep. VII: The Force Awakens   \n",
              "3529     1   2009-12-18                                    Avatar   \n",
              "\n",
              "      USD_Production_Budget  USD_Worldwide_Gross  USD_Domestic_Gross  \n",
              "2427                   1100               181041              181041  \n",
              "5007                   1400                    0                   0  \n",
              "2462                   5000                 1338                1338  \n",
              "5006                   5000                    0                   0  \n",
              "1209                   6000               240495               48482  \n",
              "...                     ...                  ...                 ...  \n",
              "4333              275000000            260002115            89302115  \n",
              "4925              300000000            879620923           200074175  \n",
              "2911              300000000            963420425           309420425  \n",
              "5079              306000000           2058662225           936662225  \n",
              "3529              425000000           2783918982           760507625  \n",
              "\n",
              "[5391 rows x 6 columns]"
            ]
          },
          "execution_count": 15,
          "metadata": {},
          "output_type": "execute_result"
        }
      ],
      "source": [
        "data.sort_values('USD_Production_Budget')"
      ]
    },
    {
      "cell_type": "markdown",
      "metadata": {
        "id": "Cj-ug32JyEhp"
      },
      "source": [
        "# Investigating the Zero Revenue Films"
      ]
    },
    {
      "cell_type": "markdown",
      "metadata": {
        "id": "U9hm-pb4xTjY"
      },
      "source": [
        "**Challenge** How many films grossed $0 domestically (i.e., in the United States)? What were the highest budget films that grossed nothing?"
      ]
    },
    {
      "cell_type": "code",
      "execution_count": 16,
      "metadata": {
        "id": "MXuRYdy0TWkt"
      },
      "outputs": [
        {
          "name": "stdout",
          "output_type": "stream",
          "text": [
            "Number of films that grossed $0 domestically 512\n"
          ]
        },
        {
          "data": {
            "text/plain": [
              "Rank                     512\n",
              "Release_Date             512\n",
              "Movie_Title              512\n",
              "USD_Production_Budget    512\n",
              "USD_Worldwide_Gross      512\n",
              "USD_Domestic_Gross       512\n",
              "dtype: int64"
            ]
          },
          "execution_count": 16,
          "metadata": {},
          "output_type": "execute_result"
        }
      ],
      "source": [
        "no_revenue = data[data.USD_Domestic_Gross == 0]\n",
        "print(f'Number of films that grossed $0 domestically {len(no_revenue)}')\n",
        "no_revenue.count()\n",
        "# no_revenue.sort_values('USD_Production_Budget', ascending=False)"
      ]
    },
    {
      "cell_type": "code",
      "execution_count": 17,
      "metadata": {},
      "outputs": [
        {
          "data": {
            "text/plain": [
              "Rank                                      96\n",
              "Release_Date             2020-12-31 00:00:00\n",
              "Movie_Title                      Singularity\n",
              "USD_Production_Budget              175000000\n",
              "USD_Worldwide_Gross                        0\n",
              "USD_Domestic_Gross                         0\n",
              "Name: 5388, dtype: object"
            ]
          },
          "execution_count": 17,
          "metadata": {},
          "output_type": "execute_result"
        }
      ],
      "source": [
        "no_revenue.loc[no_revenue.USD_Production_Budget.idxmax()]\n"
      ]
    },
    {
      "cell_type": "markdown",
      "metadata": {
        "id": "mY8SAwI0x73b"
      },
      "source": [
        "**Challenge**: How many films grossed $0 worldwide? What are the highest budget films that had no revenue internationally?"
      ]
    },
    {
      "cell_type": "code",
      "execution_count": 18,
      "metadata": {
        "id": "VpfocexxTXym"
      },
      "outputs": [
        {
          "data": {
            "text/plain": [
              "Rank                     357\n",
              "Release_Date             357\n",
              "Movie_Title              357\n",
              "USD_Production_Budget    357\n",
              "USD_Worldwide_Gross      357\n",
              "USD_Domestic_Gross       357\n",
              "dtype: int64"
            ]
          },
          "execution_count": 18,
          "metadata": {},
          "output_type": "execute_result"
        }
      ],
      "source": [
        "no_revenue_ww = data[data.USD_Worldwide_Gross == 0]\n",
        "no_revenue_ww.count()"
      ]
    },
    {
      "cell_type": "code",
      "execution_count": 19,
      "metadata": {},
      "outputs": [
        {
          "data": {
            "text/html": [
              "<div>\n",
              "<style scoped>\n",
              "    .dataframe tbody tr th:only-of-type {\n",
              "        vertical-align: middle;\n",
              "    }\n",
              "\n",
              "    .dataframe tbody tr th {\n",
              "        vertical-align: top;\n",
              "    }\n",
              "\n",
              "    .dataframe thead th {\n",
              "        text-align: right;\n",
              "    }\n",
              "</style>\n",
              "<table border=\"1\" class=\"dataframe\">\n",
              "  <thead>\n",
              "    <tr style=\"text-align: right;\">\n",
              "      <th></th>\n",
              "      <th>Rank</th>\n",
              "      <th>Release_Date</th>\n",
              "      <th>Movie_Title</th>\n",
              "      <th>USD_Production_Budget</th>\n",
              "      <th>USD_Worldwide_Gross</th>\n",
              "      <th>USD_Domestic_Gross</th>\n",
              "    </tr>\n",
              "  </thead>\n",
              "  <tbody>\n",
              "  </tbody>\n",
              "</table>\n",
              "</div>"
            ],
            "text/plain": [
              "Empty DataFrame\n",
              "Columns: [Rank, Release_Date, Movie_Title, USD_Production_Budget, USD_Worldwide_Gross, USD_Domestic_Gross]\n",
              "Index: []"
            ]
          },
          "execution_count": 19,
          "metadata": {},
          "output_type": "execute_result"
        }
      ],
      "source": [
        "no_revenue_ww.sort_values('USD_Production_Budget', ascending=False)\n",
        "no_revenue_ww[no_revenue_ww['USD_Domestic_Gross'] != 0]"
      ]
    },
    {
      "cell_type": "markdown",
      "metadata": {
        "id": "eXUDzWpeyV2f"
      },
      "source": [
        "### Filtering on Multiple Conditions"
      ]
    },
    {
      "cell_type": "code",
      "execution_count": 20,
      "metadata": {
        "id": "dLd3eeD9TZZ9"
      },
      "outputs": [
        {
          "name": "stdout",
          "output_type": "stream",
          "text": [
            "Number of international releases: 155\n"
          ]
        }
      ],
      "source": [
        "international_releases = data.loc[(data.USD_Domestic_Gross == 0) & \n",
        "                                  (data.USD_Worldwide_Gross != 0)]\n",
        "                    \n",
        "print(f'Number of international releases: {len(international_releases)}')"
      ]
    },
    {
      "cell_type": "markdown",
      "metadata": {
        "id": "YruPjqLVPuiB"
      },
      "source": [
        "**Challenge**: Use the [`.query()` function](https://pandas.pydata.org/pandas-docs/stable/reference/api/pandas.DataFrame.query.html) to accomplish the same thing. Create a subset for international releases that had some worldwide gross revenue, but made zero revenue in the United States. \n",
        "\n",
        "Hint: This time you'll have to use the `and` keyword."
      ]
    },
    {
      "cell_type": "code",
      "execution_count": 21,
      "metadata": {
        "id": "Xvu-jTCwTavg"
      },
      "outputs": [
        {
          "name": "stdout",
          "output_type": "stream",
          "text": [
            "Number of international releases: 155\n"
          ]
        },
        {
          "data": {
            "text/html": [
              "<div>\n",
              "<style scoped>\n",
              "    .dataframe tbody tr th:only-of-type {\n",
              "        vertical-align: middle;\n",
              "    }\n",
              "\n",
              "    .dataframe tbody tr th {\n",
              "        vertical-align: top;\n",
              "    }\n",
              "\n",
              "    .dataframe thead th {\n",
              "        text-align: right;\n",
              "    }\n",
              "</style>\n",
              "<table border=\"1\" class=\"dataframe\">\n",
              "  <thead>\n",
              "    <tr style=\"text-align: right;\">\n",
              "      <th></th>\n",
              "      <th>Rank</th>\n",
              "      <th>Release_Date</th>\n",
              "      <th>Movie_Title</th>\n",
              "      <th>USD_Production_Budget</th>\n",
              "      <th>USD_Worldwide_Gross</th>\n",
              "      <th>USD_Domestic_Gross</th>\n",
              "    </tr>\n",
              "  </thead>\n",
              "  <tbody>\n",
              "    <tr>\n",
              "      <th>5340</th>\n",
              "      <td>1506</td>\n",
              "      <td>2017-04-14</td>\n",
              "      <td>Queen of the Desert</td>\n",
              "      <td>36000000</td>\n",
              "      <td>1480089</td>\n",
              "      <td>0</td>\n",
              "    </tr>\n",
              "    <tr>\n",
              "      <th>5348</th>\n",
              "      <td>2225</td>\n",
              "      <td>2017-05-05</td>\n",
              "      <td>Chāi dàn zhuānjiā</td>\n",
              "      <td>23000000</td>\n",
              "      <td>58807172</td>\n",
              "      <td>0</td>\n",
              "    </tr>\n",
              "    <tr>\n",
              "      <th>5360</th>\n",
              "      <td>4832</td>\n",
              "      <td>2017-07-03</td>\n",
              "      <td>Departure</td>\n",
              "      <td>1100000</td>\n",
              "      <td>27561</td>\n",
              "      <td>0</td>\n",
              "    </tr>\n",
              "    <tr>\n",
              "      <th>5372</th>\n",
              "      <td>1856</td>\n",
              "      <td>2017-08-25</td>\n",
              "      <td>Ballerina</td>\n",
              "      <td>30000000</td>\n",
              "      <td>48048527</td>\n",
              "      <td>0</td>\n",
              "    </tr>\n",
              "    <tr>\n",
              "      <th>5374</th>\n",
              "      <td>4237</td>\n",
              "      <td>2017-08-25</td>\n",
              "      <td>Polina danser sa vie</td>\n",
              "      <td>4000000</td>\n",
              "      <td>36630</td>\n",
              "      <td>0</td>\n",
              "    </tr>\n",
              "  </tbody>\n",
              "</table>\n",
              "</div>"
            ],
            "text/plain": [
              "      Rank Release_Date           Movie_Title  USD_Production_Budget  \\\n",
              "5340  1506   2017-04-14   Queen of the Desert               36000000   \n",
              "5348  2225   2017-05-05     Chāi dàn zhuānjiā               23000000   \n",
              "5360  4832   2017-07-03             Departure                1100000   \n",
              "5372  1856   2017-08-25             Ballerina               30000000   \n",
              "5374  4237   2017-08-25  Polina danser sa vie                4000000   \n",
              "\n",
              "      USD_Worldwide_Gross  USD_Domestic_Gross  \n",
              "5340              1480089                   0  \n",
              "5348             58807172                   0  \n",
              "5360                27561                   0  \n",
              "5372             48048527                   0  \n",
              "5374                36630                   0  "
            ]
          },
          "execution_count": 21,
          "metadata": {},
          "output_type": "execute_result"
        }
      ],
      "source": [
        "international_releases = data.query('USD_Worldwide_Gross > 0 & USD_Domestic_Gross == 0')\n",
        "print(f'Number of international releases: {len(international_releases)}')\n",
        "international_releases.tail()"
      ]
    },
    {
      "cell_type": "markdown",
      "metadata": {
        "id": "EM-FTE4OZhfr"
      },
      "source": [
        "### Unreleased Films\n",
        "\n",
        "**Challenge**:\n",
        "* Identify which films were not released yet as of the time of data collection (May 1st, 2018).\n",
        "* How many films are included in the dataset that have not yet had a chance to be screened in the box office? \n",
        "* Create another DataFrame called data_clean that does not include these films. "
      ]
    },
    {
      "cell_type": "code",
      "execution_count": 24,
      "metadata": {
        "id": "PIukYVY9Zpxu"
      },
      "outputs": [
        {
          "data": {
            "text/plain": [
              "Int64Index([5384, 5385, 5386, 5387, 5388, 5389, 5390], dtype='int64')"
            ]
          },
          "execution_count": 24,
          "metadata": {},
          "output_type": "execute_result"
        }
      ],
      "source": [
        "# Date of Data Collection\n",
        "scrape_date = pd.Timestamp('2018-5-1')\n",
        "not_released_yet = data[data.Release_Date > scrape_date]\n",
        "len(not_released_yet)"
      ]
    },
    {
      "cell_type": "code",
      "execution_count": 23,
      "metadata": {
        "id": "OAI0VsM3Tc6v"
      },
      "outputs": [
        {
          "data": {
            "text/plain": [
              "5384"
            ]
          },
          "execution_count": 23,
          "metadata": {},
          "output_type": "execute_result"
        }
      ],
      "source": [
        "# data_clean = data[data.Release_Date < scrape_date]\n",
        "data_clean = data.drop(not_released_yet.index)\n",
        "len(data_clean)"
      ]
    },
    {
      "cell_type": "markdown",
      "metadata": {
        "id": "khrJcXlGZWZO"
      },
      "source": [
        "### Films that Lost Money\n",
        "\n",
        "**Challenge**: \n",
        "What is the percentage of films where the production costs exceeded the worldwide gross revenue? "
      ]
    },
    {
      "cell_type": "code",
      "execution_count": 29,
      "metadata": {
        "id": "7uW_U9StTgvZ"
      },
      "outputs": [
        {
          "data": {
            "text/plain": [
              "37.27711738484398"
            ]
          },
          "execution_count": 29,
          "metadata": {},
          "output_type": "execute_result"
        }
      ],
      "source": [
        "money_losers = data_clean[data_clean.USD_Worldwide_Gross < data_clean.USD_Production_Budget]\n",
        "len(money_losers)/ len(data_clean) * 100"
      ]
    },
    {
      "cell_type": "markdown",
      "metadata": {
        "id": "cfJUL3WwyiDy"
      },
      "source": [
        "# Seaborn for Data Viz: Bubble Charts"
      ]
    },
    {
      "cell_type": "code",
      "execution_count": 36,
      "metadata": {
        "id": "YXa3bp1uTiSS"
      },
      "outputs": [
        {
          "data": {
            "image/png": "[encoded data removed]",
            "text/plain": [
              "<Figure size 1600x800 with 1 Axes>"
            ]
          },
          "metadata": {
            "needs_background": "light"
          },
          "output_type": "display_data"
        }
      ],
      "source": [
        "plt.figure(figsize=(8,4), dpi=200)\n",
        "\n",
        "ax = sns.scatterplot(\n",
        "    data=data_clean,\n",
        "    x='USD_Production_Budget',\n",
        "    y='USD_Worldwide_Gross'\n",
        "    )\n",
        "\n",
        "ax.set(ylim=(0, 3000000000),\n",
        "       xlim=(0, 450000000),\n",
        "       ylabel='Revenue in $ billions',\n",
        "       xlabel='Budget in $100 millions')\n",
        "    \n",
        "plt.show()"
      ]
    },
    {
      "cell_type": "markdown",
      "metadata": {
        "id": "e7NIOiL2y3en"
      },
      "source": [
        "### Plotting Movie Releases over Time\n",
        "\n",
        "**Challenge**: Try to create the following Bubble Chart:\n",
        "\n",
        "<img src=https://i.imgur.com/8fUn9T6.png>\n",
        "\n"
      ]
    },
    {
      "cell_type": "code",
      "execution_count": null,
      "metadata": {
        "id": "OT0D-i3HTmsB"
      },
      "outputs": [],
      "source": []
    },
    {
      "cell_type": "markdown",
      "metadata": {
        "id": "r_2hFz9py84b"
      },
      "source": [
        "# Converting Years to Decades Trick\n",
        "\n",
        "**Challenge**: Create a column in `data_clean` that has the decade of the release. \n",
        "\n",
        "<img src=https://i.imgur.com/0VEfagw.png width=650> \n",
        "\n",
        "Here's how: \n",
        "1. Create a [`DatetimeIndex` object](https://pandas.pydata.org/pandas-docs/stable/reference/api/pandas.DatetimeIndex.html) from the Release_Date column. \n",
        "2. Grab all the years from the `DatetimeIndex` object using the `.year` property.\n",
        "<img src=https://i.imgur.com/5m06Ach.png width=650>\n",
        "3. Use floor division `//` to convert the year data to the decades of the films.\n",
        "4. Add the decades as a `Decade` column to the `data_clean` DataFrame."
      ]
    },
    {
      "cell_type": "code",
      "execution_count": null,
      "metadata": {
        "id": "lak08IPMTn-j"
      },
      "outputs": [],
      "source": []
    },
    {
      "cell_type": "markdown",
      "metadata": {
        "id": "q-X7NK_9zIz9"
      },
      "source": [
        "### Separate the \"old\" (before 1969) and \"New\" (1970s onwards) Films\n",
        "\n",
        "**Challenge**: Create two new DataFrames: `old_films` and `new_films`\n",
        "* `old_films` should include all the films before 1969 (up to and including 1969)\n",
        "* `new_films` should include all the films from 1970 onwards\n",
        "* How many films were released prior to 1970?\n",
        "* What was the most expensive film made prior to 1970?"
      ]
    },
    {
      "cell_type": "code",
      "execution_count": null,
      "metadata": {
        "id": "qe93nMcBTqQz"
      },
      "outputs": [],
      "source": []
    },
    {
      "cell_type": "markdown",
      "metadata": {
        "id": "msXABzF3zW7e"
      },
      "source": [
        "# Seaborn Regression Plots"
      ]
    },
    {
      "cell_type": "code",
      "execution_count": null,
      "metadata": {
        "id": "2ajPcWMJTsom"
      },
      "outputs": [],
      "source": []
    },
    {
      "cell_type": "markdown",
      "metadata": {
        "id": "6k4MeLmxWFwX"
      },
      "source": [
        "**Challenge**: Use Seaborn's `.regplot()` to show the scatter plot and linear regression line against the `new_films`. \n",
        "<br>\n",
        "<br>\n",
        "Style the chart\n",
        "\n",
        "* Put the chart on a `'darkgrid'`.\n",
        "* Set limits on the axes so that they don't show negative values.\n",
        "* Label the axes on the plot \"Revenue in \\$ billions\" and \"Budget in \\$ millions\".\n",
        "* Provide HEX colour codes for the plot and the regression line. Make the dots dark blue (#2f4b7c) and the line orange (#ff7c43).\n",
        "\n",
        "Interpret the chart\n",
        "\n",
        "* Do our data points for the new films align better or worse with the linear regression than for our older films?\n",
        "* Roughly how much would a film with a budget of $150 million make according to the regression line?"
      ]
    },
    {
      "cell_type": "code",
      "execution_count": null,
      "metadata": {
        "id": "6cOVsxqvTui2"
      },
      "outputs": [],
      "source": []
    },
    {
      "cell_type": "markdown",
      "metadata": {
        "id": "Q1SUPPMAzlVK"
      },
      "source": [
        "# Run Your Own Regression with scikit-learn\n",
        "\n",
        "$$ REV \\hat ENUE = \\theta _0 + \\theta _1 BUDGET$$"
      ]
    },
    {
      "cell_type": "code",
      "execution_count": null,
      "metadata": {
        "id": "QmX-wMMLTwBW"
      },
      "outputs": [],
      "source": []
    },
    {
      "cell_type": "markdown",
      "metadata": {
        "id": "o23E9iT1RHQ1"
      },
      "source": [
        "**Challenge**: Run a linear regression for the `old_films`. Calculate the intercept, slope and r-squared. How much of the variance in movie revenue does the linear model explain in this case?"
      ]
    },
    {
      "cell_type": "code",
      "execution_count": null,
      "metadata": {
        "id": "Sd43DJNDT0yQ"
      },
      "outputs": [],
      "source": []
    },
    {
      "cell_type": "code",
      "execution_count": null,
      "metadata": {
        "id": "ygKsLBx5Rs7t"
      },
      "outputs": [],
      "source": []
    },
    {
      "cell_type": "markdown",
      "metadata": {
        "id": "hoD3PeG75p78"
      },
      "source": [
        "# Use Your Model to Make a Prediction\n",
        "\n",
        "We just estimated the slope and intercept! Remember that our Linear Model has the following form:\n",
        "\n",
        "$$ REV \\hat ENUE = \\theta _0 + \\theta _1 BUDGET$$\n",
        "\n",
        "**Challenge**:  How much global revenue does our model estimate for a film with a budget of $350 million? "
      ]
    },
    {
      "cell_type": "code",
      "execution_count": null,
      "metadata": {
        "id": "fX4I4h5i5rgF"
      },
      "outputs": [],
      "source": []
    },
    {
      "cell_type": "code",
      "execution_count": null,
      "metadata": {
        "id": "fB2Yp8ln5qfO"
      },
      "outputs": [],
      "source": []
    }
  ],
  "metadata": {
    "colab": {
      "name": "Seaborn and Linear Regression (start).ipynb",
      "provenance": []
    },
    "interpreter": {
      "hash": "31f2aee4e71d21fbe5cf8b01ff0e069b9275f58929596ceb00d14d90e3e16cd6"
    },
    "kernelspec": {
      "display_name": "Python 3.8.5 64-bit",
      "name": "python3"
    },
    "language_info": {
      "codemirror_mode": {
        "name": "ipython",
        "version": 3
      },
      "file_extension": ".py",
      "mimetype": "text/x-python",
      "name": "python",
      "nbconvert_exporter": "python",
      "pygments_lexer": "ipython3",
      "version": "3.8.5"
    }
  },
  "nbformat": 4,
  "nbformat_minor": 0
}